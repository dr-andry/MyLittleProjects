{
 "cells": [
  {
   "cell_type": "code",
   "execution_count": 3,
   "id": "019bf5e2-a0ce-4950-8537-bacba78d1611",
   "metadata": {},
   "outputs": [],
   "source": [
    "import torch\n",
    "import numpy as np\n",
    "import onnxruntime as ort\n",
    "from PIL import Image\n",
    "import os\n",
    "from ultralytics import YOLO\n",
    "import cv2\n",
    "import pickle\n",
    "from IPython.display import display"
   ]
  },
  {
   "cell_type": "markdown",
   "id": "b78bc9c7-dd4b-4896-8586-dc8867f1823c",
   "metadata": {},
   "source": [
    "# Класс базы"
   ]
  },
  {
   "cell_type": "code",
   "execution_count": 4,
   "id": "e4e16964-2566-4c5f-8dad-15f26b66610d",
   "metadata": {},
   "outputs": [],
   "source": [
    "class FaceBase:\n",
    "    def __init__(self, db_path='./base.pkl'):\n",
    "        self.encoder = FaceEncoder()\n",
    "        self.detector = FaceDetector()\n",
    "        \n",
    "        self.path = db_path\n",
    "        self.base = self._load_db() if os.path.exists(db_path) else {\"name\": [], \"face\": []}\n",
    "        # print(self.base['name'])\n",
    "\n",
    "    def find_person(self, image, treshold=0.6):\n",
    "        \n",
    "        face = self.extract_face(image)\n",
    "        if face is None:\n",
    "            return \"No faces\"\n",
    "\n",
    "        query_embedding = self.get_emgedding(face)\n",
    "        \n",
    "        # print(query_embedding.shape, np.array(self.base['face']).shape)\n",
    "        \n",
    "        similarity = self._cos_sim(query_embedding)\n",
    "        # print(\"SIM: \", similarity)\n",
    "        \n",
    "        if np.max(similarity) > treshold:\n",
    "            max_index = np.argmax(similarity)\n",
    "            # print(max_index)\n",
    "            return self.base['name'][max_index]\n",
    "        else:\n",
    "            return \"Unknown\"\n",
    "\n",
    "    def _cos_sim(self, query):\n",
    "        \n",
    "        return np.dot(self.base['face'], query) / (\n",
    "            np.linalg.norm(self.base['face'], axis=1) * np.linalg.norm(query)\n",
    "        )\n",
    "    \n",
    "    def extract_face(self, image):\n",
    "        \n",
    "        boxes = self.detector.detect(image)\n",
    "        if len(boxes) == 0:\n",
    "            return None\n",
    "\n",
    "        x1, y1, x2, y2 = boxes[0].astype(int)\n",
    "        return Image.fromarray(image[y1:y2, x1:x2])\n",
    "\n",
    "    def add_image(self, name, image_path):\n",
    "        embeddings = []\n",
    "\n",
    "        for path in image_path:\n",
    "            image = cv2.imread(path)\n",
    "            face = self.extract_face(image)\n",
    "            \n",
    "            if face is not None:\n",
    "                embedded = self.get_emgedding(face)\n",
    "                # print(embedded)\n",
    "                embeddings.append(embedded)\n",
    "\n",
    "        # print(embeddings)\n",
    "\n",
    "        if embeddings:\n",
    "            avg_embedding = np.mean(embeddings, axis=0)\n",
    "            \n",
    "            if name not in self.base['name']:\n",
    "                self.base['name'].append(name)\n",
    "                self.base['face'].append(avg_embedding)\n",
    "                print(\"*\"*50)\n",
    "                print(f\"Новое лицо\")\n",
    "                print(\"*\"*50)\n",
    "            else:\n",
    "                self.base['face'][-1] = (self.base['face'][-1] + avg_embedding)/2\n",
    "                print(\"*\"*50)\n",
    "                print(f\"* Добавлено *\")\n",
    "                print(\"*\"*50)\n",
    "\n",
    "        self._save()\n",
    "        \n",
    "    def _preprocess(self, image):\n",
    "        \n",
    "        image = image.resize((112, 112))  # Размер, ожидаемый моделью\n",
    "        image = np.array(image).transpose(2, 0, 1)  # HWC → CHW\n",
    "        image = (image / 255.0 - 0.5) / 0.5  # Нормализация [0,255] → [-1,1]\n",
    "        \n",
    "        return image.astype(np.float32)[None, ...]  # Добавляем batch-ось\n",
    "\n",
    "    def get_emgedding(self, face):\n",
    "        processed_face = self._preprocess(face)\n",
    "        embedding = self.encoder.encode(processed_face)\n",
    "        return embedding\n",
    "    \n",
    "    def _save(self):\n",
    "        with open('base.pkl', 'wb') as f:\n",
    "            pickle.dump(self.base, f)\n",
    "\n",
    "    def _load_db(self):\n",
    "        with open(self.path, 'rb') as f:\n",
    "            return pickle.load(f)\n",
    "\n",
    "class FaceEncoder:\n",
    "    def __init__(self, model_name=\"./archface/model.onnx\"):\n",
    "        self.__face_encoder = ort.InferenceSession(model_name, providers=[\"CPUExecutionProvider\"])\n",
    "\n",
    "    def encode(self, image):\n",
    "        outputs = self.__face_encoder.run(\n",
    "            output_names=None,  # Все выходы модели\n",
    "            input_feed={\n",
    "                self.__face_encoder.get_inputs()[0].name: image\n",
    "            }\n",
    "        )\n",
    "        embeddings = outputs[0][0]\n",
    "        return embeddings\n",
    "\n",
    "class FaceDetector:\n",
    "    def __init__(self, model_name='./yolov8-face/yolov8x-face-lindevs.pt'):\n",
    "        self.__face_extractor = YOLO(model_name)\n",
    "\n",
    "    def detect(self, image):\n",
    "        results = self.__face_extractor(image)\n",
    "        boxes = results[0].boxes.xyxy.cpu().numpy()\n",
    "        return boxes"
   ]
  },
  {
   "cell_type": "code",
   "execution_count": null,
   "id": "1fb525c8-c8ff-4d98-a916-f7eb10d6d5a5",
   "metadata": {},
   "outputs": [],
   "source": [
    "db = FaceBase()"
   ]
  },
  {
   "cell_type": "code",
   "execution_count": 9,
   "id": "1bbfa067-b5b1-469b-9d50-828829e25940",
   "metadata": {},
   "outputs": [
    {
     "data": {
      "text/plain": [
       "datetime.datetime(2025, 6, 1, 15, 9, 54, 508759)"
      ]
     },
     "execution_count": 9,
     "metadata": {},
     "output_type": "execute_result"
    }
   ],
   "source": [
    "from datetime import datetime\n",
    "\n",
    "\n",
    "datetime.now()"
   ]
  },
  {
   "cell_type": "markdown",
   "id": "516442e3-1997-42dd-9277-caeb5e3288a7",
   "metadata": {},
   "source": [
    "# Обучение"
   ]
  },
  {
   "cell_type": "code",
   "execution_count": null,
   "id": "4226b78c-7be4-4329-9996-99076881099f",
   "metadata": {
    "scrolled": true
   },
   "outputs": [],
   "source": [
    "\n",
    "root = './data/train/'\n",
    "\n",
    "names = os.listdir(root)\n",
    "\n",
    "batch_size = 20\n",
    "\n",
    "for name in names:\n",
    "    \n",
    "    start = datetime.now()\n",
    "    # print(f\"start: {name}, {start}\")\n",
    "\n",
    "    all_frames = os.listdir(os.path.join(root, name))\n",
    "    \n",
    "    for batch_num in range(len(all_frames) // batch_size):\n",
    "        batch = all_frames[batch_num*batch_size:(batch_num+1)*batch_size]\n",
    "        print(f\"SEND {batch_num} BATCH\")\n",
    "        db.add_image(\n",
    "            name, [os.path.join(root, name, img) for img in batch]\n",
    "        )\n",
    "    \n",
    "    # print(f'end: {name}')\n",
    "   "
   ]
  },
  {
   "cell_type": "markdown",
   "id": "20c5103b-949e-4d72-9307-a509bed7812c",
   "metadata": {},
   "source": [
    "# Тест"
   ]
  },
  {
   "cell_type": "code",
   "execution_count": 55,
   "id": "b37989fe-949a-4a9d-b4e3-6f99e43729d2",
   "metadata": {},
   "outputs": [],
   "source": [
    "with open('./base.pkl', 'rb') as f:\n",
    "        base = pickle.load(f)"
   ]
  },
  {
   "cell_type": "code",
   "execution_count": 65,
   "id": "0d7b51bd-8989-4c4c-8d6b-45ca2876f6fd",
   "metadata": {},
   "outputs": [],
   "source": [
    "classes = base['name']"
   ]
  },
  {
   "cell_type": "code",
   "execution_count": null,
   "id": "5fe606b4-ea2c-4307-82dd-0be85d7096e1",
   "metadata": {},
   "outputs": [],
   "source": [
    "db = FaceBase()"
   ]
  },
  {
   "cell_type": "code",
   "execution_count": 67,
   "id": "62b51806-7559-4127-b38d-c0f000f3eab1",
   "metadata": {},
   "outputs": [],
   "source": [
    "# classes.append(\"Unknown\")"
   ]
  },
  {
   "cell_type": "code",
   "execution_count": null,
   "id": "f61fd27f-9e74-4d10-9adb-7ede748cc66a",
   "metadata": {},
   "outputs": [],
   "source": [
    "from sklearn.metrics import classification_report\n",
    "from sklearn.preprocessing import LabelEncoder\n",
    "\n",
    "encoder = LabelEncoder()\n",
    "encoder.fit(classes)\n",
    "enc_peoples = encoder.transform(classes)\n"
   ]
  },
  {
   "cell_type": "code",
   "execution_count": null,
   "id": "801c8d00-64f2-4102-9700-2b3f462377ad",
   "metadata": {
    "scrolled": true
   },
   "outputs": [],
   "source": [
    "root = './data/test/'\n",
    "names = os.listdir(root)\n",
    "\n",
    "predictions = []\n",
    "real = []\n",
    "\n",
    "for name in names:\n",
    "    \n",
    "    for image_name in os.listdir(os.path.join(root, name)):\n",
    "        \n",
    "        image = cv2.imread(os.path.join(root, name, image_name))\n",
    "        # Имя\n",
    "        res = db.find_person(image, treshold=.5)\n",
    "        print(name, res)\n",
    "        pred = encoder.transform([res])\n",
    "        predictions.append(pred[0])\n",
    "        real.append(encoder.transform([name])[0])"
   ]
  },
  {
   "cell_type": "code",
   "execution_count": 77,
   "id": "5a41d723-5775-47e8-9054-4b828bda0f04",
   "metadata": {},
   "outputs": [
    {
     "name": "stderr",
     "output_type": "stream",
     "text": [
      "C:\\Users\\drand\\anaconda3\\Lib\\site-packages\\sklearn\\metrics\\_classification.py:1531: UndefinedMetricWarning: Precision is ill-defined and being set to 0.0 in labels with no predicted samples. Use `zero_division` parameter to control this behavior.\n",
      "  _warn_prf(average, modifier, f\"{metric.capitalize()} is\", len(result))\n",
      "C:\\Users\\drand\\anaconda3\\Lib\\site-packages\\sklearn\\metrics\\_classification.py:1531: UndefinedMetricWarning: Recall is ill-defined and being set to 0.0 in labels with no true samples. Use `zero_division` parameter to control this behavior.\n",
      "  _warn_prf(average, modifier, f\"{metric.capitalize()} is\", len(result))\n",
      "C:\\Users\\drand\\anaconda3\\Lib\\site-packages\\sklearn\\metrics\\_classification.py:1531: UndefinedMetricWarning: Precision is ill-defined and being set to 0.0 in labels with no predicted samples. Use `zero_division` parameter to control this behavior.\n",
      "  _warn_prf(average, modifier, f\"{metric.capitalize()} is\", len(result))\n",
      "C:\\Users\\drand\\anaconda3\\Lib\\site-packages\\sklearn\\metrics\\_classification.py:1531: UndefinedMetricWarning: Recall is ill-defined and being set to 0.0 in labels with no true samples. Use `zero_division` parameter to control this behavior.\n",
      "  _warn_prf(average, modifier, f\"{metric.capitalize()} is\", len(result))\n",
      "C:\\Users\\drand\\anaconda3\\Lib\\site-packages\\sklearn\\metrics\\_classification.py:1531: UndefinedMetricWarning: Precision is ill-defined and being set to 0.0 in labels with no predicted samples. Use `zero_division` parameter to control this behavior.\n",
      "  _warn_prf(average, modifier, f\"{metric.capitalize()} is\", len(result))\n",
      "C:\\Users\\drand\\anaconda3\\Lib\\site-packages\\sklearn\\metrics\\_classification.py:1531: UndefinedMetricWarning: Recall is ill-defined and being set to 0.0 in labels with no true samples. Use `zero_division` parameter to control this behavior.\n",
      "  _warn_prf(average, modifier, f\"{metric.capitalize()} is\", len(result))\n"
     ]
    }
   ],
   "source": [
    "report = classification_report(real, predictions, target_names=encoder.classes_)"
   ]
  },
  {
   "cell_type": "code",
   "execution_count": null,
   "id": "ab57b373-d99f-455a-9a26-8bee675eb779",
   "metadata": {},
   "outputs": [],
   "source": [
    "print(report)"
   ]
  },
  {
   "cell_type": "code",
   "execution_count": null,
   "id": "c070999b-8f3a-4c68-918d-7e117e8b5c1f",
   "metadata": {},
   "outputs": [],
   "source": []
  }
 ],
 "metadata": {
  "kernelspec": {
   "display_name": "Python [conda env:base] *",
   "language": "python",
   "name": "conda-base-py"
  },
  "language_info": {
   "codemirror_mode": {
    "name": "ipython",
    "version": 3
   },
   "file_extension": ".py",
   "mimetype": "text/x-python",
   "name": "python",
   "nbconvert_exporter": "python",
   "pygments_lexer": "ipython3",
   "version": "3.12.7"
  }
 },
 "nbformat": 4,
 "nbformat_minor": 5
}
