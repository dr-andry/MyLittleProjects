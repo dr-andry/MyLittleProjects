{
 "cells": [
  {
   "cell_type": "code",
   "execution_count": 1,
   "id": "227f2577-3269-4192-989d-e8476b74108e",
   "metadata": {},
   "outputs": [],
   "source": [
    "import cv2\n",
    "import os\n",
    "import PIL\n",
    "from ultralytics import YOLO\n",
    "import numpy as np"
   ]
  },
  {
   "cell_type": "code",
   "execution_count": null,
   "id": "b3936010-d56d-4b74-89e2-8e905a78ff92",
   "metadata": {},
   "outputs": [],
   "source": [
    "root = './data/raw_test/'\n",
    "# root = './data/raw_train/'\n",
    "names = os.listdir(root)"
   ]
  },
  {
   "cell_type": "code",
   "execution_count": null,
   "id": "6f8905cb-b010-4332-9829-e374ac82be3c",
   "metadata": {},
   "outputs": [],
   "source": [
    "face_detection = YOLO(\"./yolov8-face/yolov8x-face-lindevs.pt\")"
   ]
  },
  {
   "cell_type": "code",
   "execution_count": null,
   "id": "26a1025b-4545-4585-ad67-0f58efe6ee0f",
   "metadata": {
    "scrolled": true
   },
   "outputs": [],
   "source": [
    "for name in names:\n",
    "    \n",
    "    videos = os.listdir(os.path.join(root, name))\n",
    "    \n",
    "    frame_count_to_save = 0\n",
    "    frame_count = 0\n",
    "    frames_dir = f\"./data/test/{name}\"\n",
    "    # frames_dir = f\"./data/train/{name}\"\n",
    "    os.makedirs(frames_dir)\n",
    "    \n",
    "    for video in videos:\n",
    "        # print(f\"Video: {video}, Name: {name}\")\n",
    "        cap = cv2.VideoCapture(os.path.join(root, name, video))\n",
    "        FPS = cap.get(cv2.CAP_PROP_FPS)\n",
    "        \n",
    "        frames_in_second = 5\n",
    "        \n",
    "        # Промежуток в кадрах\n",
    "        delay = FPS / frames_in_second\n",
    "        \n",
    "        # Раскадровка видео\n",
    "        while True:\n",
    "            # Считываем кадр\n",
    "            # ret - корректно ли прочитан кадр\n",
    "            # frame - кадр\n",
    "            ret, frame = cap.read()\n",
    "                \n",
    "            if not ret:\n",
    "                break\n",
    "            \n",
    "            # Берём нужное количество кадров в секунду\n",
    "            if frame_count % delay < FPS/10:    \n",
    "                frame_count_to_save += 1\n",
    "                result = face_detection(frame)\n",
    "\n",
    "                # Если модель вернула координаты хотябы одного лица\n",
    "                if len(result[0].boxes.xyxy) > 0:\n",
    "                # сохранятем кадр на диск (можено в bytes.io буффер сделать)\n",
    "                    cv2.imwrite(f\"{frames_dir}/frame{frame_count_to_save}.png\", frame)\n",
    "                    \n",
    "            frame_count+=1"
   ]
  },
  {
   "cell_type": "code",
   "execution_count": null,
   "id": "e06cc1b9-17d6-47d0-b831-d3daa3321e23",
   "metadata": {},
   "outputs": [],
   "source": []
  }
 ],
 "metadata": {
  "kernelspec": {
   "display_name": "Python [conda env:base] *",
   "language": "python",
   "name": "conda-base-py"
  },
  "language_info": {
   "codemirror_mode": {
    "name": "ipython",
    "version": 3
   },
   "file_extension": ".py",
   "mimetype": "text/x-python",
   "name": "python",
   "nbconvert_exporter": "python",
   "pygments_lexer": "ipython3",
   "version": "3.12.7"
  }
 },
 "nbformat": 4,
 "nbformat_minor": 5
}
